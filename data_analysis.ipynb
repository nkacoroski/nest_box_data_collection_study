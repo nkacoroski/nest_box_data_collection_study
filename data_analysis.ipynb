{
 "cells": [
  {
   "cell_type": "markdown",
   "metadata": {},
   "source": [
    "# Data Analysis\n",
    "To be determined once data collection is completed in 2020. \n",
    "\n",
    "### Exploratory Data Analysis\n",
    "Exploratory data analysis will be conducted to provide initial descriptions and visualizations of important nest event observations.\n",
    "\n",
    "### Statistical Analysis\n",
    "Hypothesis tests on important nest event observations will be evaluated using p-values and confidence intervals."
   ]
  }
 ],
 "metadata": {
  "kernelspec": {
   "display_name": "learn-env",
   "language": "python",
   "name": "learn-env"
  },
  "language_info": {
   "codemirror_mode": {
    "name": "ipython",
    "version": 3
   },
   "file_extension": ".py",
   "mimetype": "text/x-python",
   "name": "python",
   "nbconvert_exporter": "python",
   "pygments_lexer": "ipython3",
   "version": "3.6.6"
  }
 },
 "nbformat": 4,
 "nbformat_minor": 4
}
